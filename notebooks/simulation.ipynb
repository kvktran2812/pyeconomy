{
 "cells": [
  {
   "cell_type": "code",
   "execution_count": 52,
   "id": "7ff70ea0-4929-4ee5-8462-92b725e57410",
   "metadata": {},
   "outputs": [],
   "source": [
    "import numpy as np\n",
    "import matplotlib.pyplot as plt\n",
    "import yfinance as yf"
   ]
  },
  {
   "cell_type": "code",
   "execution_count": 53,
   "id": "2ad0e2fe-9ebf-4904-bad7-06a576e3f3fa",
   "metadata": {},
   "outputs": [],
   "source": [
    "ticker = yf.Ticker(\"MSFT\")\n",
    "data = ticker.history(period=\"60d\", interval=\"5m\")\n",
    "# print(len(data))\n",
    "# print(data.head())"
   ]
  },
  {
   "cell_type": "code",
   "execution_count": 54,
   "id": "8511b2b9-72c4-48a1-af0f-68e4e16f7753",
   "metadata": {},
   "outputs": [
    {
     "data": {
      "text/html": [
       "<div>\n",
       "<style scoped>\n",
       "    .dataframe tbody tr th:only-of-type {\n",
       "        vertical-align: middle;\n",
       "    }\n",
       "\n",
       "    .dataframe tbody tr th {\n",
       "        vertical-align: top;\n",
       "    }\n",
       "\n",
       "    .dataframe thead th {\n",
       "        text-align: right;\n",
       "    }\n",
       "</style>\n",
       "<table border=\"1\" class=\"dataframe\">\n",
       "  <thead>\n",
       "    <tr style=\"text-align: right;\">\n",
       "      <th></th>\n",
       "      <th>Open</th>\n",
       "      <th>High</th>\n",
       "      <th>Low</th>\n",
       "      <th>Close</th>\n",
       "      <th>Volume</th>\n",
       "    </tr>\n",
       "  </thead>\n",
       "  <tbody>\n",
       "    <tr>\n",
       "      <th>0</th>\n",
       "      <td>429.729614</td>\n",
       "      <td>431.940002</td>\n",
       "      <td>429.399994</td>\n",
       "      <td>430.750000</td>\n",
       "      <td>833459</td>\n",
       "    </tr>\n",
       "    <tr>\n",
       "      <th>1</th>\n",
       "      <td>430.765015</td>\n",
       "      <td>431.130005</td>\n",
       "      <td>429.627014</td>\n",
       "      <td>429.750000</td>\n",
       "      <td>233572</td>\n",
       "    </tr>\n",
       "    <tr>\n",
       "      <th>2</th>\n",
       "      <td>429.750000</td>\n",
       "      <td>429.790009</td>\n",
       "      <td>428.799988</td>\n",
       "      <td>428.839996</td>\n",
       "      <td>211216</td>\n",
       "    </tr>\n",
       "    <tr>\n",
       "      <th>3</th>\n",
       "      <td>428.845001</td>\n",
       "      <td>429.089996</td>\n",
       "      <td>428.234985</td>\n",
       "      <td>428.575012</td>\n",
       "      <td>225069</td>\n",
       "    </tr>\n",
       "    <tr>\n",
       "      <th>4</th>\n",
       "      <td>428.575012</td>\n",
       "      <td>428.833008</td>\n",
       "      <td>428.170990</td>\n",
       "      <td>428.304993</td>\n",
       "      <td>98608</td>\n",
       "    </tr>\n",
       "  </tbody>\n",
       "</table>\n",
       "</div>"
      ],
      "text/plain": [
       "         Open        High         Low       Close  Volume\n",
       "0  429.729614  431.940002  429.399994  430.750000  833459\n",
       "1  430.765015  431.130005  429.627014  429.750000  233572\n",
       "2  429.750000  429.790009  428.799988  428.839996  211216\n",
       "3  428.845001  429.089996  428.234985  428.575012  225069\n",
       "4  428.575012  428.833008  428.170990  428.304993   98608"
      ]
     },
     "execution_count": 54,
     "metadata": {},
     "output_type": "execute_result"
    }
   ],
   "source": [
    "\"\"\"Clean data, not important columns\"\"\"\n",
    "\n",
    "data = data.reset_index()\n",
    "data = data.drop(columns=[\"Datetime\", \"Dividends\", \"Stock Splits\"])\n",
    "data.head()"
   ]
  },
  {
   "cell_type": "code",
   "execution_count": 55,
   "id": "7fda5638-7215-4858-a0d9-dbc2d02f0dbe",
   "metadata": {},
   "outputs": [
    {
     "data": {
      "text/html": [
       "<div>\n",
       "<style scoped>\n",
       "    .dataframe tbody tr th:only-of-type {\n",
       "        vertical-align: middle;\n",
       "    }\n",
       "\n",
       "    .dataframe tbody tr th {\n",
       "        vertical-align: top;\n",
       "    }\n",
       "\n",
       "    .dataframe thead th {\n",
       "        text-align: right;\n",
       "    }\n",
       "</style>\n",
       "<table border=\"1\" class=\"dataframe\">\n",
       "  <thead>\n",
       "    <tr style=\"text-align: right;\">\n",
       "      <th></th>\n",
       "      <th>Open</th>\n",
       "      <th>High</th>\n",
       "      <th>Low</th>\n",
       "      <th>Close</th>\n",
       "      <th>Volume</th>\n",
       "      <th>rsi</th>\n",
       "    </tr>\n",
       "  </thead>\n",
       "  <tbody>\n",
       "    <tr>\n",
       "      <th>0</th>\n",
       "      <td>429.729614</td>\n",
       "      <td>431.940002</td>\n",
       "      <td>429.399994</td>\n",
       "      <td>430.750000</td>\n",
       "      <td>833459</td>\n",
       "      <td>61</td>\n",
       "    </tr>\n",
       "    <tr>\n",
       "      <th>1</th>\n",
       "      <td>430.765015</td>\n",
       "      <td>431.130005</td>\n",
       "      <td>429.627014</td>\n",
       "      <td>429.750000</td>\n",
       "      <td>233572</td>\n",
       "      <td>3</td>\n",
       "    </tr>\n",
       "    <tr>\n",
       "      <th>2</th>\n",
       "      <td>429.750000</td>\n",
       "      <td>429.790009</td>\n",
       "      <td>428.799988</td>\n",
       "      <td>428.839996</td>\n",
       "      <td>211216</td>\n",
       "      <td>70</td>\n",
       "    </tr>\n",
       "    <tr>\n",
       "      <th>3</th>\n",
       "      <td>428.845001</td>\n",
       "      <td>429.089996</td>\n",
       "      <td>428.234985</td>\n",
       "      <td>428.575012</td>\n",
       "      <td>225069</td>\n",
       "      <td>86</td>\n",
       "    </tr>\n",
       "    <tr>\n",
       "      <th>4</th>\n",
       "      <td>428.575012</td>\n",
       "      <td>428.833008</td>\n",
       "      <td>428.170990</td>\n",
       "      <td>428.304993</td>\n",
       "      <td>98608</td>\n",
       "      <td>5</td>\n",
       "    </tr>\n",
       "  </tbody>\n",
       "</table>\n",
       "</div>"
      ],
      "text/plain": [
       "         Open        High         Low       Close  Volume  rsi\n",
       "0  429.729614  431.940002  429.399994  430.750000  833459   61\n",
       "1  430.765015  431.130005  429.627014  429.750000  233572    3\n",
       "2  429.750000  429.790009  428.799988  428.839996  211216   70\n",
       "3  428.845001  429.089996  428.234985  428.575012  225069   86\n",
       "4  428.575012  428.833008  428.170990  428.304993   98608    5"
      ]
     },
     "execution_count": 55,
     "metadata": {},
     "output_type": "execute_result"
    }
   ],
   "source": [
    "\"\"\"Add RSI random\"\"\"\n",
    "rsi = np.random.randint(0, 100, len(data))\n",
    "data[\"rsi\"] = rsi\n",
    "data.head()"
   ]
  },
  {
   "cell_type": "code",
   "execution_count": 56,
   "id": "9d23adae-aa36-4296-9658-6f5553ff1fa8",
   "metadata": {},
   "outputs": [],
   "source": [
    "class Simulation:\n",
    "    def __init__(self, data):\n",
    "        self.data = data\n",
    "        self.profit = 0.0\n",
    "        self.stock = []\n",
    "        self.state = {}\n",
    "        return \n",
    "\n",
    "    def process(self, idx, row):\n",
    "        if row[\"rsi\"] < 30:\n",
    "            self.buy(idx, row[\"Close\"])\n",
    "        if row[\"rsi\"] > 70:\n",
    "            self.sell(idx, row[\"Close\"])\n",
    "        return \n",
    "\n",
    "    def buy(self, idx, price):\n",
    "        buy_instance = (idx, price)\n",
    "        self.stock.append(buy_instance)\n",
    "\n",
    "    def sell(self, idx, price):\n",
    "        if not self.stock:\n",
    "            # print(\"Nothing to sell\")\n",
    "            return\n",
    "        else:\n",
    "            sell_instance = self.stock[0]\n",
    "            profit = price - self.stock[0][1]\n",
    "            \n",
    "            # print(f\"Sell stock of {sell_instance[0]} of price {sell_instance[1]} - Profit: {profit}\")\n",
    "            self.stock.pop(0)\n",
    "            self.profit += profit\n",
    "\n",
    "    def run(self):\n",
    "        for idx, row in self.data.iterrows():\n",
    "            self.process(idx, row)\n",
    "        return "
   ]
  },
  {
   "cell_type": "code",
   "execution_count": 57,
   "id": "a45277fe-c7e8-48fa-9c0c-adff5acabd69",
   "metadata": {},
   "outputs": [],
   "source": [
    "simulation = Simulation(data)\n",
    "simulation.run()"
   ]
  },
  {
   "cell_type": "code",
   "execution_count": 58,
   "id": "018b98d4-87cb-4044-b08f-a98f03402dd7",
   "metadata": {},
   "outputs": [
    {
     "data": {
      "text/plain": [
       "1101.5239868164062"
      ]
     },
     "execution_count": 58,
     "metadata": {},
     "output_type": "execute_result"
    }
   ],
   "source": [
    "simulation.profit"
   ]
  },
  {
   "cell_type": "code",
   "execution_count": 59,
   "id": "aa55e130-ac51-4a8b-924c-70bffddc1ab1",
   "metadata": {},
   "outputs": [
    {
     "ename": "ModuleNotFoundError",
     "evalue": "No module named 'ta'",
     "output_type": "error",
     "traceback": [
      "\u001b[1;31m---------------------------------------------------------------------------\u001b[0m",
      "\u001b[1;31mModuleNotFoundError\u001b[0m                       Traceback (most recent call last)",
      "Cell \u001b[1;32mIn[59], line 1\u001b[0m\n\u001b[1;32m----> 1\u001b[0m \u001b[38;5;28;01mimport\u001b[39;00m \u001b[38;5;21;01mta\u001b[39;00m\n",
      "\u001b[1;31mModuleNotFoundError\u001b[0m: No module named 'ta'"
     ]
    }
   ],
   "source": [
    "import ta"
   ]
  },
  {
   "cell_type": "code",
   "execution_count": null,
   "id": "1f283be0-7866-40b2-8c75-8cd75abae755",
   "metadata": {},
   "outputs": [],
   "source": []
  }
 ],
 "metadata": {
  "kernelspec": {
   "display_name": "Python 3 (ipykernel)",
   "language": "python",
   "name": "python3"
  },
  "language_info": {
   "codemirror_mode": {
    "name": "ipython",
    "version": 3
   },
   "file_extension": ".py",
   "mimetype": "text/x-python",
   "name": "python",
   "nbconvert_exporter": "python",
   "pygments_lexer": "ipython3",
   "version": "3.11.7"
  }
 },
 "nbformat": 4,
 "nbformat_minor": 5
}

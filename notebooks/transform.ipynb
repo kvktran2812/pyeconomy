{
 "cells": [
  {
   "cell_type": "code",
   "execution_count": 2,
   "id": "6d622c97-0472-453c-a933-167f99118642",
   "metadata": {},
   "outputs": [],
   "source": [
    "import numpy as np\n",
    "import pandas as pd\n",
    "import matplotlib.pyplot as plt\n",
    "import yfinance as yf\n",
    "import ta"
   ]
  },
  {
   "cell_type": "code",
   "execution_count": 3,
   "id": "b7d148f2-55d7-42ff-b9a9-f97f5ac17dae",
   "metadata": {},
   "outputs": [],
   "source": [
    "ticker = yf.Ticker(\"MSFT\")\n",
    "data = ticker.history(period=\"60d\", interval=\"5m\")"
   ]
  },
  {
   "cell_type": "code",
   "execution_count": 4,
   "id": "3caddce8-efa9-4562-ac56-0737ebdd7c4e",
   "metadata": {},
   "outputs": [
    {
     "data": {
      "text/plain": [
       "<ta.momentum.RSIIndicator at 0x18e895d84d0>"
      ]
     },
     "execution_count": 4,
     "metadata": {},
     "output_type": "execute_result"
    }
   ],
   "source": [
    "rsi = ta.momentum.RSIIndicator(data[\"Close\"], fillna=True)\n",
    "rsi"
   ]
  },
  {
   "cell_type": "code",
   "execution_count": 6,
   "id": "3e0790ee-74bf-4ff2-96c6-bb92556d201f",
   "metadata": {},
   "outputs": [
    {
     "data": {
      "text/plain": [
       "Datetime\n",
       "2024-10-28 09:30:00-04:00    100.000000\n",
       "2024-10-28 09:35:00-04:00      0.000000\n",
       "2024-10-28 09:40:00-04:00      0.000000\n",
       "2024-10-28 09:45:00-04:00      0.000000\n",
       "2024-10-28 09:50:00-04:00      0.000000\n",
       "                                ...    \n",
       "2025-01-24 15:35:00-05:00     46.974286\n",
       "2025-01-24 15:40:00-05:00     50.028279\n",
       "2025-01-24 15:45:00-05:00     57.885838\n",
       "2025-01-24 15:50:00-05:00     64.583755\n",
       "2025-01-24 15:55:00-05:00     68.753504\n",
       "Name: rsi, Length: 4608, dtype: float64"
      ]
     },
     "execution_count": 6,
     "metadata": {},
     "output_type": "execute_result"
    }
   ],
   "source": [
    "rsi = rsi.rsi()\n",
    "\n",
    "rsi"
   ]
  },
  {
   "cell_type": "code",
   "execution_count": 7,
   "id": "eed55fb6-6c38-4740-ac85-a4badce51efa",
   "metadata": {},
   "outputs": [
    {
     "name": "stdout",
     "output_type": "stream",
     "text": [
      "(4608, 7)\n"
     ]
    },
    {
     "ename": "NameError",
     "evalue": "name 'pritn' is not defined",
     "output_type": "error",
     "traceback": [
      "\u001b[1;31m---------------------------------------------------------------------------\u001b[0m",
      "\u001b[1;31mNameError\u001b[0m                                 Traceback (most recent call last)",
      "Cell \u001b[1;32mIn[7], line 2\u001b[0m\n\u001b[0;32m      1\u001b[0m \u001b[38;5;28mprint\u001b[39m(data\u001b[38;5;241m.\u001b[39mshape)\n\u001b[1;32m----> 2\u001b[0m \u001b[43mpritn\u001b[49m(rsi\u001b[38;5;241m.\u001b[39mshape)\n",
      "\u001b[1;31mNameError\u001b[0m: name 'pritn' is not defined"
     ]
    }
   ],
   "source": [
    "print(data.shape)\n",
    "pritn(rsi.shape)"
   ]
  },
  {
   "cell_type": "code",
   "execution_count": null,
   "id": "735c4551-5ff3-4c34-9a42-322aa36f7a88",
   "metadata": {},
   "outputs": [],
   "source": []
  }
 ],
 "metadata": {
  "kernelspec": {
   "display_name": "Python 3 (ipykernel)",
   "language": "python",
   "name": "python3"
  },
  "language_info": {
   "codemirror_mode": {
    "name": "ipython",
    "version": 3
   },
   "file_extension": ".py",
   "mimetype": "text/x-python",
   "name": "python",
   "nbconvert_exporter": "python",
   "pygments_lexer": "ipython3",
   "version": "3.11.7"
  }
 },
 "nbformat": 4,
 "nbformat_minor": 5
}
